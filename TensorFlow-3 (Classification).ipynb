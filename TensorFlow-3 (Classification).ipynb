{
 "cells": [
  {
   "cell_type": "code",
   "execution_count": 1,
   "id": "952e5244",
   "metadata": {},
   "outputs": [],
   "source": [
    "# Classification\n",
    "\n",
    "# Regression was used to predict a numeric value, \n",
    "# classification is used to seperate data points \n",
    "# into classes of different labels."
   ]
  },
  {
   "cell_type": "code",
   "execution_count": 2,
   "id": "a5365665",
   "metadata": {},
   "outputs": [],
   "source": [
    "from __future__ import absolute_import, division, print_function, unicode_literals\n",
    "import tensorflow as tf\n",
    "import pandas as pd\n",
    "import matplotlib.pyplot as plt\n"
   ]
  },
  {
   "cell_type": "code",
   "execution_count": 3,
   "id": "abf73b2f",
   "metadata": {},
   "outputs": [],
   "source": [
    "# Example from TensorFlow tutorials: Classify Flowers\n",
    "\n",
    "#DataSet\n",
    "\n",
    "# 3 flower class: Setosa, Versicolor, Virginica\n",
    "# 4 member utils for each class: Sepal Length, Sepal Width, Petal Length, Petal Width"
   ]
  },
  {
   "cell_type": "code",
   "execution_count": 4,
   "id": "16276904",
   "metadata": {},
   "outputs": [],
   "source": [
    "FL_UTILS = ['SepalLength', 'SepalWidth', 'PetalLength', 'PetalWidth', 'Species']\n",
    "FL_CLASS = ['Setosa', 'Versicolor', 'Virginica']\n",
    "\n",
    "# From remote origin, use following:\n",
    "#trainData = tf.keras.utils.get_file('iris_training.csv', \"https://storage.googleapis.com/download.tensorflow.org/data/iris_training.csv\")\n",
    "#testData = tf.keras.utils.get_file('iris_test.csv', \"https://storage.googleapis.com/download.tensorflow.org/data/iris_test.csv\")\n",
    "\n",
    "rawData = pd.read_csv('assets/iris_training.csv', names=FL_UTILS, header=0)\n",
    "testData = pd.read_csv('assets/iris_test.csv', names=FL_UTILS, header=0)"
   ]
  },
  {
   "cell_type": "code",
   "execution_count": 5,
   "id": "0c413cdd",
   "metadata": {},
   "outputs": [
    {
     "data": {
      "text/html": [
       "<div>\n",
       "<style scoped>\n",
       "    .dataframe tbody tr th:only-of-type {\n",
       "        vertical-align: middle;\n",
       "    }\n",
       "\n",
       "    .dataframe tbody tr th {\n",
       "        vertical-align: top;\n",
       "    }\n",
       "\n",
       "    .dataframe thead th {\n",
       "        text-align: right;\n",
       "    }\n",
       "</style>\n",
       "<table border=\"1\" class=\"dataframe\">\n",
       "  <thead>\n",
       "    <tr style=\"text-align: right;\">\n",
       "      <th></th>\n",
       "      <th>SepalLength</th>\n",
       "      <th>SepalWidth</th>\n",
       "      <th>PetalLength</th>\n",
       "      <th>PetalWidth</th>\n",
       "      <th>Species</th>\n",
       "    </tr>\n",
       "  </thead>\n",
       "  <tbody>\n",
       "    <tr>\n",
       "      <th>0</th>\n",
       "      <td>6.4</td>\n",
       "      <td>2.8</td>\n",
       "      <td>5.6</td>\n",
       "      <td>2.2</td>\n",
       "      <td>2</td>\n",
       "    </tr>\n",
       "    <tr>\n",
       "      <th>1</th>\n",
       "      <td>5.0</td>\n",
       "      <td>2.3</td>\n",
       "      <td>3.3</td>\n",
       "      <td>1.0</td>\n",
       "      <td>1</td>\n",
       "    </tr>\n",
       "    <tr>\n",
       "      <th>2</th>\n",
       "      <td>4.9</td>\n",
       "      <td>2.5</td>\n",
       "      <td>4.5</td>\n",
       "      <td>1.7</td>\n",
       "      <td>2</td>\n",
       "    </tr>\n",
       "    <tr>\n",
       "      <th>3</th>\n",
       "      <td>4.9</td>\n",
       "      <td>3.1</td>\n",
       "      <td>1.5</td>\n",
       "      <td>0.1</td>\n",
       "      <td>0</td>\n",
       "    </tr>\n",
       "    <tr>\n",
       "      <th>4</th>\n",
       "      <td>5.7</td>\n",
       "      <td>3.8</td>\n",
       "      <td>1.7</td>\n",
       "      <td>0.3</td>\n",
       "      <td>0</td>\n",
       "    </tr>\n",
       "  </tbody>\n",
       "</table>\n",
       "</div>"
      ],
      "text/plain": [
       "   SepalLength  SepalWidth  PetalLength  PetalWidth  Species\n",
       "0          6.4         2.8          5.6         2.2        2\n",
       "1          5.0         2.3          3.3         1.0        1\n",
       "2          4.9         2.5          4.5         1.7        2\n",
       "3          4.9         3.1          1.5         0.1        0\n",
       "4          5.7         3.8          1.7         0.3        0"
      ]
     },
     "execution_count": 5,
     "metadata": {},
     "output_type": "execute_result"
    }
   ],
   "source": [
    "rawData.head()"
   ]
  },
  {
   "cell_type": "code",
   "execution_count": 6,
   "id": "91949836",
   "metadata": {},
   "outputs": [],
   "source": [
    "trainMe = rawData.pop(\"Species\")\n",
    "testMe = testData.pop(\"Species\")\n"
   ]
  },
  {
   "cell_type": "code",
   "execution_count": 7,
   "id": "b44f45c8",
   "metadata": {},
   "outputs": [
    {
     "data": {
      "text/html": [
       "<div>\n",
       "<style scoped>\n",
       "    .dataframe tbody tr th:only-of-type {\n",
       "        vertical-align: middle;\n",
       "    }\n",
       "\n",
       "    .dataframe tbody tr th {\n",
       "        vertical-align: top;\n",
       "    }\n",
       "\n",
       "    .dataframe thead th {\n",
       "        text-align: right;\n",
       "    }\n",
       "</style>\n",
       "<table border=\"1\" class=\"dataframe\">\n",
       "  <thead>\n",
       "    <tr style=\"text-align: right;\">\n",
       "      <th></th>\n",
       "      <th>SepalLength</th>\n",
       "      <th>SepalWidth</th>\n",
       "      <th>PetalLength</th>\n",
       "      <th>PetalWidth</th>\n",
       "    </tr>\n",
       "  </thead>\n",
       "  <tbody>\n",
       "    <tr>\n",
       "      <th>0</th>\n",
       "      <td>6.4</td>\n",
       "      <td>2.8</td>\n",
       "      <td>5.6</td>\n",
       "      <td>2.2</td>\n",
       "    </tr>\n",
       "    <tr>\n",
       "      <th>1</th>\n",
       "      <td>5.0</td>\n",
       "      <td>2.3</td>\n",
       "      <td>3.3</td>\n",
       "      <td>1.0</td>\n",
       "    </tr>\n",
       "    <tr>\n",
       "      <th>2</th>\n",
       "      <td>4.9</td>\n",
       "      <td>2.5</td>\n",
       "      <td>4.5</td>\n",
       "      <td>1.7</td>\n",
       "    </tr>\n",
       "    <tr>\n",
       "      <th>3</th>\n",
       "      <td>4.9</td>\n",
       "      <td>3.1</td>\n",
       "      <td>1.5</td>\n",
       "      <td>0.1</td>\n",
       "    </tr>\n",
       "    <tr>\n",
       "      <th>4</th>\n",
       "      <td>5.7</td>\n",
       "      <td>3.8</td>\n",
       "      <td>1.7</td>\n",
       "      <td>0.3</td>\n",
       "    </tr>\n",
       "  </tbody>\n",
       "</table>\n",
       "</div>"
      ],
      "text/plain": [
       "   SepalLength  SepalWidth  PetalLength  PetalWidth\n",
       "0          6.4         2.8          5.6         2.2\n",
       "1          5.0         2.3          3.3         1.0\n",
       "2          4.9         2.5          4.5         1.7\n",
       "3          4.9         3.1          1.5         0.1\n",
       "4          5.7         3.8          1.7         0.3"
      ]
     },
     "execution_count": 7,
     "metadata": {},
     "output_type": "execute_result"
    }
   ],
   "source": [
    "rawData.head()"
   ]
  },
  {
   "cell_type": "code",
   "execution_count": 8,
   "id": "b7a2318d",
   "metadata": {},
   "outputs": [
    {
     "data": {
      "text/plain": [
       "(120, 4)"
      ]
     },
     "execution_count": 8,
     "metadata": {},
     "output_type": "execute_result"
    }
   ],
   "source": [
    "rawData.shape"
   ]
  },
  {
   "cell_type": "code",
   "execution_count": 9,
   "id": "50d84de1",
   "metadata": {},
   "outputs": [],
   "source": [
    "# Input Function\n",
    "\n",
    "def inputFunction(features, labels, training = True, batchSize = 256 ):\n",
    "    # Creating dataset from inputs.\n",
    "    dataSet = tf.data.Dataset.from_tensor_slices((dict(features), labels))\n",
    "    \n",
    "    if training:\n",
    "        dataSet = dataSet.shuffle(1000).repeat()\n",
    "            \n",
    "    return dataSet.batch(batchSize)  \n",
    "     "
   ]
  },
  {
   "cell_type": "code",
   "execution_count": 10,
   "id": "bcda558e",
   "metadata": {},
   "outputs": [
    {
     "name": "stdout",
     "output_type": "stream",
     "text": [
      "[NumericColumn(key='SepalLength', shape=(1,), default_value=None, dtype=tf.float32, normalizer_fn=None), NumericColumn(key='SepalWidth', shape=(1,), default_value=None, dtype=tf.float32, normalizer_fn=None), NumericColumn(key='PetalLength', shape=(1,), default_value=None, dtype=tf.float32, normalizer_fn=None), NumericColumn(key='PetalWidth', shape=(1,), default_value=None, dtype=tf.float32, normalizer_fn=None)]\n"
     ]
    }
   ],
   "source": [
    "# Column-Feature Mappings\n",
    "\n",
    "# Since there are only numeric data:\n",
    "mapped = []\n",
    "for key in rawData.keys():\n",
    "    mapped.append(tf.feature_column.numeric_column(key=key))\n",
    "print(mapped)"
   ]
  },
  {
   "cell_type": "code",
   "execution_count": 11,
   "id": "b2b35240",
   "metadata": {
    "scrolled": true
   },
   "outputs": [
    {
     "name": "stdout",
     "output_type": "stream",
     "text": [
      "INFO:tensorflow:Using default config.\n",
      "WARNING:tensorflow:Using temporary folder as model directory: C:\\Users\\oezen\\AppData\\Local\\Temp\\tmpw51ycj4s\n",
      "INFO:tensorflow:Using config: {'_model_dir': 'C:\\\\Users\\\\oezen\\\\AppData\\\\Local\\\\Temp\\\\tmpw51ycj4s', '_tf_random_seed': None, '_save_summary_steps': 100, '_save_checkpoints_steps': None, '_save_checkpoints_secs': 600, '_session_config': allow_soft_placement: true\n",
      "graph_options {\n",
      "  rewrite_options {\n",
      "    meta_optimizer_iterations: ONE\n",
      "  }\n",
      "}\n",
      ", '_keep_checkpoint_max': 5, '_keep_checkpoint_every_n_hours': 10000, '_log_step_count_steps': 100, '_train_distribute': None, '_device_fn': None, '_protocol': None, '_eval_distribute': None, '_experimental_distribute': None, '_experimental_max_worker_delay_secs': None, '_session_creation_timeout_secs': 7200, '_checkpoint_save_graph_def': True, '_service': None, '_cluster_spec': ClusterSpec({}), '_task_type': 'worker', '_task_id': 0, '_global_id_in_cluster': 0, '_master': '', '_evaluation_master': '', '_is_chief': True, '_num_ps_replicas': 0, '_num_worker_replicas': 1}\n"
     ]
    }
   ],
   "source": [
    "# The Model\n",
    "\n",
    "# Using DNNClassifier (LinearClassifier can be used as well)\n",
    "# DNNClassifier doc: https://www.tensorflow.org/api_docs/python/tf/estimator/DNNClassifier\n",
    "\n",
    "classifierWorker = tf.estimator.DNNClassifier(feature_columns=mapped,\n",
    "                                     # [30]->[10] inner nodes, 2 layers\n",
    "                                       hidden_units = [60, 20],\n",
    "                                    # 3 output classes (there are 3 flower species)\n",
    "                                       n_classes=3)"
   ]
  },
  {
   "cell_type": "code",
   "execution_count": 12,
   "id": "364d2549",
   "metadata": {},
   "outputs": [
    {
     "name": "stdout",
     "output_type": "stream",
     "text": [
      "WARNING:tensorflow:From C:\\ProgramData\\Anaconda3\\lib\\site-packages\\tensorflow\\python\\training\\training_util.py:396: Variable.initialized_value (from tensorflow.python.ops.variables) is deprecated and will be removed in a future version.\n",
      "Instructions for updating:\n",
      "Use Variable.read_value. Variables in 2.X are initialized automatically both in eager and graph (inside tf.defun) contexts.\n",
      "INFO:tensorflow:Calling model_fn.\n",
      "WARNING:tensorflow:From C:\\ProgramData\\Anaconda3\\lib\\site-packages\\keras\\optimizers\\optimizer_v2\\adagrad.py:86: calling Constant.__init__ (from tensorflow.python.ops.init_ops) with dtype is deprecated and will be removed in a future version.\n",
      "Instructions for updating:\n",
      "Call initializer instance with the dtype argument instead of passing it to the constructor\n",
      "INFO:tensorflow:Done calling model_fn.\n",
      "INFO:tensorflow:Create CheckpointSaverHook.\n",
      "INFO:tensorflow:Graph was finalized.\n",
      "INFO:tensorflow:Running local_init_op.\n",
      "INFO:tensorflow:Done running local_init_op.\n",
      "INFO:tensorflow:Calling checkpoint listeners before saving checkpoint 0...\n",
      "INFO:tensorflow:Saving checkpoints for 0 into C:\\Users\\oezen\\AppData\\Local\\Temp\\tmpw51ycj4s\\model.ckpt.\n",
      "INFO:tensorflow:C:\\Users\\oezen\\AppData\\Local\\Temp\\tmpw51ycj4s\\model.ckpt-0.data-00000-of-00001\n",
      "INFO:tensorflow:0\n",
      "INFO:tensorflow:C:\\Users\\oezen\\AppData\\Local\\Temp\\tmpw51ycj4s\\model.ckpt-0.index\n",
      "INFO:tensorflow:0\n",
      "INFO:tensorflow:C:\\Users\\oezen\\AppData\\Local\\Temp\\tmpw51ycj4s\\model.ckpt-0.meta\n",
      "INFO:tensorflow:100\n",
      "INFO:tensorflow:Calling checkpoint listeners after saving checkpoint 0...\n",
      "INFO:tensorflow:loss = 1.2217729, step = 0\n",
      "INFO:tensorflow:global_step/sec: 430.276\n",
      "INFO:tensorflow:loss = 0.91847754, step = 100 (0.233 sec)\n",
      "INFO:tensorflow:global_step/sec: 547.916\n",
      "INFO:tensorflow:loss = 0.8323438, step = 200 (0.183 sec)\n",
      "INFO:tensorflow:global_step/sec: 544.743\n",
      "INFO:tensorflow:loss = 0.77939105, step = 300 (0.183 sec)\n",
      "INFO:tensorflow:global_step/sec: 543.385\n",
      "INFO:tensorflow:loss = 0.7315613, step = 400 (0.185 sec)\n",
      "INFO:tensorflow:global_step/sec: 547.208\n",
      "INFO:tensorflow:loss = 0.7004477, step = 500 (0.183 sec)\n",
      "INFO:tensorflow:global_step/sec: 546.118\n",
      "INFO:tensorflow:loss = 0.6691601, step = 600 (0.183 sec)\n",
      "INFO:tensorflow:global_step/sec: 526.976\n",
      "INFO:tensorflow:loss = 0.6349508, step = 700 (0.189 sec)\n",
      "INFO:tensorflow:global_step/sec: 527.361\n",
      "INFO:tensorflow:loss = 0.62163067, step = 800 (0.190 sec)\n",
      "INFO:tensorflow:global_step/sec: 539.944\n",
      "INFO:tensorflow:loss = 0.59833664, step = 900 (0.186 sec)\n",
      "INFO:tensorflow:global_step/sec: 537.48\n",
      "INFO:tensorflow:loss = 0.5857059, step = 1000 (0.186 sec)\n",
      "INFO:tensorflow:global_step/sec: 525.512\n",
      "INFO:tensorflow:loss = 0.56513697, step = 1100 (0.190 sec)\n",
      "INFO:tensorflow:global_step/sec: 544.589\n",
      "INFO:tensorflow:loss = 0.5525546, step = 1200 (0.184 sec)\n",
      "INFO:tensorflow:global_step/sec: 548.676\n",
      "INFO:tensorflow:loss = 0.54890084, step = 1300 (0.182 sec)\n",
      "INFO:tensorflow:global_step/sec: 541.737\n",
      "INFO:tensorflow:loss = 0.53399515, step = 1400 (0.185 sec)\n",
      "INFO:tensorflow:global_step/sec: 513.114\n",
      "INFO:tensorflow:loss = 0.5222207, step = 1500 (0.194 sec)\n",
      "INFO:tensorflow:global_step/sec: 539.611\n",
      "INFO:tensorflow:loss = 0.500577, step = 1600 (0.186 sec)\n",
      "INFO:tensorflow:global_step/sec: 527.594\n",
      "INFO:tensorflow:loss = 0.50108534, step = 1700 (0.189 sec)\n",
      "INFO:tensorflow:global_step/sec: 550.03\n",
      "INFO:tensorflow:loss = 0.49194917, step = 1800 (0.183 sec)\n",
      "INFO:tensorflow:global_step/sec: 520.617\n",
      "INFO:tensorflow:loss = 0.48486537, step = 1900 (0.191 sec)\n",
      "INFO:tensorflow:global_step/sec: 561.422\n",
      "INFO:tensorflow:loss = 0.47467613, step = 2000 (0.179 sec)\n",
      "INFO:tensorflow:global_step/sec: 539.31\n",
      "INFO:tensorflow:loss = 0.4706755, step = 2100 (0.185 sec)\n",
      "INFO:tensorflow:global_step/sec: 514.81\n",
      "INFO:tensorflow:loss = 0.46776772, step = 2200 (0.194 sec)\n",
      "INFO:tensorflow:global_step/sec: 541.403\n",
      "INFO:tensorflow:loss = 0.45813408, step = 2300 (0.184 sec)\n",
      "INFO:tensorflow:global_step/sec: 516.923\n",
      "INFO:tensorflow:loss = 0.44946018, step = 2400 (0.193 sec)\n",
      "INFO:tensorflow:global_step/sec: 401.933\n",
      "INFO:tensorflow:loss = 0.44344363, step = 2500 (0.249 sec)\n",
      "INFO:tensorflow:global_step/sec: 527.382\n",
      "INFO:tensorflow:loss = 0.4411552, step = 2600 (0.191 sec)\n",
      "INFO:tensorflow:global_step/sec: 536.418\n",
      "INFO:tensorflow:loss = 0.43180534, step = 2700 (0.186 sec)\n",
      "INFO:tensorflow:global_step/sec: 535.497\n",
      "INFO:tensorflow:loss = 0.4369638, step = 2800 (0.186 sec)\n",
      "INFO:tensorflow:global_step/sec: 539.43\n",
      "INFO:tensorflow:loss = 0.42425078, step = 2900 (0.186 sec)\n",
      "INFO:tensorflow:global_step/sec: 504.052\n",
      "INFO:tensorflow:loss = 0.41639462, step = 3000 (0.198 sec)\n",
      "INFO:tensorflow:global_step/sec: 471.7\n",
      "INFO:tensorflow:loss = 0.42248994, step = 3100 (0.212 sec)\n",
      "INFO:tensorflow:global_step/sec: 530.404\n",
      "INFO:tensorflow:loss = 0.41328716, step = 3200 (0.188 sec)\n",
      "INFO:tensorflow:global_step/sec: 542.868\n",
      "INFO:tensorflow:loss = 0.4014251, step = 3300 (0.184 sec)\n",
      "INFO:tensorflow:global_step/sec: 538.568\n",
      "INFO:tensorflow:loss = 0.40374434, step = 3400 (0.186 sec)\n",
      "INFO:tensorflow:global_step/sec: 550.021\n",
      "INFO:tensorflow:loss = 0.40304506, step = 3500 (0.183 sec)\n",
      "INFO:tensorflow:global_step/sec: 522.15\n",
      "INFO:tensorflow:loss = 0.38731268, step = 3600 (0.191 sec)\n",
      "INFO:tensorflow:global_step/sec: 534.487\n",
      "INFO:tensorflow:loss = 0.39487928, step = 3700 (0.186 sec)\n",
      "INFO:tensorflow:global_step/sec: 538.138\n",
      "INFO:tensorflow:loss = 0.39609396, step = 3800 (0.187 sec)\n",
      "INFO:tensorflow:global_step/sec: 532.308\n",
      "INFO:tensorflow:loss = 0.38177907, step = 3900 (0.188 sec)\n",
      "INFO:tensorflow:global_step/sec: 547.872\n",
      "INFO:tensorflow:loss = 0.37342173, step = 4000 (0.182 sec)\n",
      "INFO:tensorflow:global_step/sec: 552.718\n",
      "INFO:tensorflow:loss = 0.37318143, step = 4100 (0.182 sec)\n",
      "INFO:tensorflow:global_step/sec: 551.145\n",
      "INFO:tensorflow:loss = 0.37505692, step = 4200 (0.180 sec)\n",
      "INFO:tensorflow:global_step/sec: 528.986\n",
      "INFO:tensorflow:loss = 0.3819111, step = 4300 (0.190 sec)\n",
      "INFO:tensorflow:global_step/sec: 518.675\n",
      "INFO:tensorflow:loss = 0.3709298, step = 4400 (0.192 sec)\n",
      "INFO:tensorflow:global_step/sec: 550.039\n",
      "INFO:tensorflow:loss = 0.37169912, step = 4500 (0.183 sec)\n",
      "INFO:tensorflow:global_step/sec: 545.367\n",
      "INFO:tensorflow:loss = 0.36009768, step = 4600 (0.182 sec)\n",
      "INFO:tensorflow:global_step/sec: 535.954\n",
      "INFO:tensorflow:loss = 0.3552121, step = 4700 (0.187 sec)\n",
      "INFO:tensorflow:global_step/sec: 554.01\n",
      "INFO:tensorflow:loss = 0.35452443, step = 4800 (0.181 sec)\n",
      "INFO:tensorflow:global_step/sec: 536.861\n",
      "INFO:tensorflow:loss = 0.3454635, step = 4900 (0.186 sec)\n",
      "INFO:tensorflow:Calling checkpoint listeners before saving checkpoint 5000...\n",
      "INFO:tensorflow:Saving checkpoints for 5000 into C:\\Users\\oezen\\AppData\\Local\\Temp\\tmpw51ycj4s\\model.ckpt.\n",
      "INFO:tensorflow:C:\\Users\\oezen\\AppData\\Local\\Temp\\tmpw51ycj4s\\model.ckpt-5000.data-00000-of-00001\n",
      "INFO:tensorflow:0\n",
      "INFO:tensorflow:C:\\Users\\oezen\\AppData\\Local\\Temp\\tmpw51ycj4s\\model.ckpt-5000.index\n",
      "INFO:tensorflow:0\n",
      "INFO:tensorflow:C:\\Users\\oezen\\AppData\\Local\\Temp\\tmpw51ycj4s\\model.ckpt-5000.meta\n",
      "INFO:tensorflow:100\n",
      "INFO:tensorflow:Calling checkpoint listeners after saving checkpoint 5000...\n",
      "INFO:tensorflow:Loss for final step: 0.33781144.\n"
     ]
    },
    {
     "data": {
      "text/plain": [
       "<tensorflow_estimator.python.estimator.canned.dnn.DNNClassifierV2 at 0x20c71de5730>"
      ]
     },
     "execution_count": 12,
     "metadata": {},
     "output_type": "execute_result"
    }
   ],
   "source": [
    "# Lambda expression, instead of adding inner function into input function.\n",
    "classifierWorker.train(\n",
    "    input_fn = lambda: inputFunction(rawData, trainMe, training=True), \n",
    "    steps=5000)"
   ]
  },
  {
   "cell_type": "code",
   "execution_count": 13,
   "id": "11f9197e",
   "metadata": {
    "scrolled": true
   },
   "outputs": [
    {
     "name": "stdout",
     "output_type": "stream",
     "text": [
      "INFO:tensorflow:Calling model_fn.\n",
      "INFO:tensorflow:Done calling model_fn.\n",
      "INFO:tensorflow:Starting evaluation at 2022-06-19T13:52:43\n",
      "INFO:tensorflow:Graph was finalized.\n",
      "INFO:tensorflow:Restoring parameters from C:\\Users\\oezen\\AppData\\Local\\Temp\\tmpw51ycj4s\\model.ckpt-5000\n",
      "INFO:tensorflow:Running local_init_op.\n",
      "INFO:tensorflow:Done running local_init_op.\n",
      "INFO:tensorflow:Inference Time : 1.14048s\n",
      "INFO:tensorflow:Finished evaluation at 2022-06-19-13:52:44\n",
      "INFO:tensorflow:Saving dict for global step 5000: accuracy = 0.93333334, average_loss = 0.40924343, global_step = 5000, loss = 0.40924343\n",
      "INFO:tensorflow:Saving 'checkpoint_path' summary for global step 5000: C:\\Users\\oezen\\AppData\\Local\\Temp\\tmpw51ycj4s\\model.ckpt-5000\n",
      "\n",
      " (TEST) Accuracy: 0.93333\n",
      "\n"
     ]
    }
   ],
   "source": [
    "# Evaluating results\n",
    "\n",
    "eResult = classifierWorker.evaluate(input_fn = lambda: inputFunction(testData, testMe, training=False))\n",
    "\n",
    "print('\\n (TEST) Accuracy: {accuracy:0.5f}\\n'.format(**eResult))"
   ]
  },
  {
   "cell_type": "code",
   "execution_count": 14,
   "id": "d6280ca5",
   "metadata": {},
   "outputs": [
    {
     "name": "stdout",
     "output_type": "stream",
     "text": [
      "INFO:tensorflow:Calling model_fn.\n",
      "INFO:tensorflow:Done calling model_fn.\n",
      "INFO:tensorflow:Graph was finalized.\n",
      "INFO:tensorflow:Restoring parameters from C:\\Users\\oezen\\AppData\\Local\\Temp\\tmpw51ycj4s\\model.ckpt-5000\n",
      "INFO:tensorflow:Running local_init_op.\n",
      "INFO:tensorflow:Done running local_init_op.\n",
      "[0.9139417  0.07729208 0.00876625]\n"
     ]
    }
   ],
   "source": [
    "dicPredict = list(classifierWorker.predict(input_fn = lambda:inputFunction(testData, testMe, training=False)))\n",
    "#print(dicPredict)\n",
    "probs = pd.Series([pre['probabilities'][1] for pre in dicPredict])\n",
    "print(dicPredict[2]['probabilities'])"
   ]
  },
  {
   "cell_type": "code",
   "execution_count": 15,
   "id": "0fda510f",
   "metadata": {},
   "outputs": [],
   "source": [
    "# General, user input function that gets data from user and predict the kind:\n",
    "\n",
    "def PredictMe(inputClassifier):   \n",
    "\n",
    "    def customInput(features, batchSize=256):\n",
    "         return tf.data.Dataset.from_tensor_slices(dict(features)).batch(batchSize)\n",
    "\n",
    "    predict = {} # Empity dict, to be mapped.\n",
    "\n",
    "    print('Please give only numeric values.\\n')\n",
    "    isValid = 0\n",
    "    while isValid<len(FL_UTILS)-1:\n",
    "        for util in FL_UTILS[:-1]:    \n",
    "            value = input(util + ': ')\n",
    "            predict[util] = [float(value)]\n",
    "            isValid +=1            \n",
    "\n",
    "    predictOutput = inputClassifier.predict(input_fn = lambda: customInput(predict))\n",
    "    for prediction in predictOutput:\n",
    "        classId = prediction['class_ids'][0]\n",
    "        probability = prediction['probabilities'][classId]\n",
    "        print('\\nPrediction for given data is \"{}\" ({:.3f}%)'.format(FL_CLASS[classId], 100*probability))"
   ]
  },
  {
   "cell_type": "code",
   "execution_count": 16,
   "id": "bbde50b2",
   "metadata": {},
   "outputs": [
    {
     "name": "stdout",
     "output_type": "stream",
     "text": [
      "Please give only numeric values.\n",
      "\n",
      "SepalLength: 4\n",
      "SepalWidth: 4\n",
      "PetalLength: 4\n",
      "PetalWidth: 4\n",
      "INFO:tensorflow:Calling model_fn.\n",
      "INFO:tensorflow:Done calling model_fn.\n",
      "INFO:tensorflow:Graph was finalized.\n",
      "INFO:tensorflow:Restoring parameters from C:\\Users\\oezen\\AppData\\Local\\Temp\\tmpw51ycj4s\\model.ckpt-5000\n",
      "INFO:tensorflow:Running local_init_op.\n",
      "INFO:tensorflow:Done running local_init_op.\n",
      "\n",
      "Prediction for given data is \"Virginica\" (62.758%)\n"
     ]
    }
   ],
   "source": [
    "# Testing the user input function that postprocess the data.\n",
    "PredictMe(classifierWorker)"
   ]
  },
  {
   "cell_type": "code",
   "execution_count": null,
   "id": "20c8c081",
   "metadata": {},
   "outputs": [],
   "source": []
  },
  {
   "cell_type": "code",
   "execution_count": null,
   "id": "6ffb14cd",
   "metadata": {},
   "outputs": [],
   "source": []
  }
 ],
 "metadata": {
  "kernelspec": {
   "display_name": "Python 3 (ipykernel)",
   "language": "python",
   "name": "python3"
  },
  "language_info": {
   "codemirror_mode": {
    "name": "ipython",
    "version": 3
   },
   "file_extension": ".py",
   "mimetype": "text/x-python",
   "name": "python",
   "nbconvert_exporter": "python",
   "pygments_lexer": "ipython3",
   "version": "3.9.7"
  }
 },
 "nbformat": 4,
 "nbformat_minor": 5
}
