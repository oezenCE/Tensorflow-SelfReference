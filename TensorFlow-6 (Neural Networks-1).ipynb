{
 "cells": [
  {
   "cell_type": "code",
   "execution_count": 1,
   "id": "4c62dbc0",
   "metadata": {},
   "outputs": [],
   "source": [
    "import tensorflow as tf\n",
    "from tensorflow import keras\n",
    "import numpy as np\n",
    "import matplotlib.pyplot as plt\n",
    "%matplotlib inline"
   ]
  },
  {
   "cell_type": "code",
   "execution_count": 2,
   "id": "bc3833ad",
   "metadata": {},
   "outputs": [],
   "source": [
    "# Working with MNIST Fashion Dataset.\n",
    "dataSet = keras.datasets.fashion_mnist\n",
    "\n",
    "# Preparing train and test packages.\n",
    "(trainImg, trainLbl),(testImg, testLbl) = dataSet.load_data()"
   ]
  },
  {
   "cell_type": "code",
   "execution_count": 3,
   "id": "047a8918",
   "metadata": {},
   "outputs": [
    {
     "data": {
      "text/plain": [
       "(60000, 28, 28)"
      ]
     },
     "execution_count": 3,
     "metadata": {},
     "output_type": "execute_result"
    }
   ],
   "source": [
    "# Seeing the shape of datasets\n",
    "trainImg.shape"
   ]
  },
  {
   "cell_type": "code",
   "execution_count": 4,
   "id": "8c0d26e3",
   "metadata": {},
   "outputs": [],
   "source": [
    "# Having the types of clothes \n",
    "typeClothes = ['T-shirt', 'Trouser', 'Pullover', 'Dress', 'Coat',\n",
    "               'Sandal', 'Shirt', 'Sneaker', 'Bag', 'Boot']"
   ]
  },
  {
   "cell_type": "code",
   "execution_count": 5,
   "id": "69622ae3",
   "metadata": {},
   "outputs": [
    {
     "data": {
      "image/png": "[encoded data removed]",
      "text/plain": [
       "<Figure size 432x288 with 1 Axes>"
      ]
     },
     "metadata": {
      "needs_background": "light"
     },
     "output_type": "display_data"
    }
   ],
   "source": [
    "# seeing test images.\n",
    "plt.figure()\n",
    "plt.imshow(trainImg[0])\n",
    "plt.show()"
   ]
  },
  {
   "cell_type": "code",
   "execution_count": 6,
   "id": "e8be7ec9",
   "metadata": {},
   "outputs": [],
   "source": [
    "# Preprocess the data\n",
    "\n",
    "# Pixel range for black&white is from 0(white) to 255(black).\n",
    "# Applying unit interval, [0,1]\n",
    "\n",
    "trainImg = trainImg / 255\n",
    "testImg = testImg / 255"
   ]
  },
  {
   "cell_type": "code",
   "execution_count": 7,
   "id": "91eaa6b5",
   "metadata": {},
   "outputs": [],
   "source": [
    "# Building a Sequantial Model where hidden layer is densely conncected\n",
    "\n",
    "# modelBuild function.\n",
    "\n",
    "def modelBuild(shapeInput = (28, 28),numberOutput=10, activationInner = 'relu', activationOutput='softmax'):\n",
    "    model = keras.Sequential([\n",
    "        keras.layers.Flatten(input_shape = shapeInput),                         # Input layer\n",
    "        keras.layers.Dense(128, activation = activationInner),                  # Hidden layer\n",
    "        keras.layers.Dense(numberOutput, activation = activationOutput)])   # Output layer\n",
    "    return model\n",
    "\n",
    "    # softmax: probability dist. to ensure output probabilities sum up 1.\n",
    "\n",
    "    # Common activation functions :\n",
    "    #     - Relu (Rectified Linear Unit)\n",
    "    #     - Tanh (Hyperbolic Tangent)\n",
    "    #     - Sigmoid"
   ]
  },
  {
   "cell_type": "code",
   "execution_count": 8,
   "id": "91b026b8",
   "metadata": {},
   "outputs": [],
   "source": [
    "# Compiling the model.\n",
    "model1 = modelBuild()\n",
    "model1.compile(optimizer = 'adam',\n",
    "               loss = \"sparse_categorical_crossentropy\",\n",
    "               metrics = ['accuracy'])"
   ]
  },
  {
   "cell_type": "code",
   "execution_count": 9,
   "id": "12d64442",
   "metadata": {},
   "outputs": [
    {
     "name": "stdout",
     "output_type": "stream",
     "text": [
      "Epoch 1/10\n",
      "1875/1875 [==============================] - 4s 2ms/step - loss: 0.5007 - accuracy: 0.8242\n",
      "Epoch 2/10\n",
      "1875/1875 [==============================] - 4s 2ms/step - loss: 0.3746 - accuracy: 0.8658\n",
      "Epoch 3/10\n",
      "1875/1875 [==============================] - 3s 2ms/step - loss: 0.3353 - accuracy: 0.8771\n",
      "Epoch 4/10\n",
      "1875/1875 [==============================] - 3s 2ms/step - loss: 0.3108 - accuracy: 0.8860\n",
      "Epoch 5/10\n",
      "1875/1875 [==============================] - 3s 2ms/step - loss: 0.2933 - accuracy: 0.8926\n",
      "Epoch 6/10\n",
      "1875/1875 [==============================] - 4s 2ms/step - loss: 0.2781 - accuracy: 0.8977\n",
      "Epoch 7/10\n",
      "1875/1875 [==============================] - 3s 2ms/step - loss: 0.2656 - accuracy: 0.9016\n",
      "Epoch 8/10\n",
      "1875/1875 [==============================] - 3s 2ms/step - loss: 0.2563 - accuracy: 0.9050\n",
      "Epoch 9/10\n",
      "1875/1875 [==============================] - 3s 2ms/step - loss: 0.2447 - accuracy: 0.9075\n",
      "Epoch 10/10\n",
      "1875/1875 [==============================] - 3s 2ms/step - loss: 0.2361 - accuracy: 0.9122\n"
     ]
    },
    {
     "data": {
      "text/plain": [
       "<keras.callbacks.History at 0x221d203e040>"
      ]
     },
     "execution_count": 9,
     "metadata": {},
     "output_type": "execute_result"
    }
   ],
   "source": [
    "# Training the Model\n",
    "\n",
    "model1.fit(trainImg, trainLbl, epochs=10)"
   ]
  },
  {
   "cell_type": "code",
   "execution_count": 13,
   "id": "81119039",
   "metadata": {},
   "outputs": [
    {
     "name": "stdout",
     "output_type": "stream",
     "text": [
      "Epoch 1/7\n",
      "1875/1875 [==============================] - 4s 2ms/step - loss: 0.2306 - accuracy: 0.9137\n",
      "Epoch 2/7\n",
      "1875/1875 [==============================] - 3s 2ms/step - loss: 0.2231 - accuracy: 0.9168\n",
      "Epoch 3/7\n",
      "1875/1875 [==============================] - 3s 2ms/step - loss: 0.2159 - accuracy: 0.9193\n",
      "Epoch 4/7\n",
      "1875/1875 [==============================] - 3s 2ms/step - loss: 0.2093 - accuracy: 0.9216\n",
      "Epoch 5/7\n",
      "1875/1875 [==============================] - 3s 2ms/step - loss: 0.2032 - accuracy: 0.9236\n",
      "Epoch 6/7\n",
      "1875/1875 [==============================] - 3s 2ms/step - loss: 0.1978 - accuracy: 0.9254\n",
      "Epoch 7/7\n",
      "1875/1875 [==============================] - 3s 2ms/step - loss: 0.1936 - accuracy: 0.9273\n"
     ]
    },
    {
     "data": {
      "text/plain": [
       "<keras.callbacks.History at 0x221d44463d0>"
      ]
     },
     "execution_count": 13,
     "metadata": {},
     "output_type": "execute_result"
    }
   ],
   "source": [
    "# Training 2\n",
    "\n",
    "model1.fit(trainImg, trainLbl, epochs=7)"
   ]
  },
  {
   "cell_type": "code",
   "execution_count": 10,
   "id": "08022751",
   "metadata": {},
   "outputs": [
    {
     "name": "stdout",
     "output_type": "stream",
     "text": [
      "313/313 [==============================] - 1s 1ms/step - loss: 0.3379 - accuracy: 0.8850\n",
      "0.8849999904632568\n"
     ]
    }
   ],
   "source": [
    "# Evaluation of the model\n",
    "\n",
    "loss, accuracy = model1.evaluate(testImg, testLbl, verbose = 1)\n",
    "print(accuracy)"
   ]
  },
  {
   "cell_type": "code",
   "execution_count": 11,
   "id": "261b1def",
   "metadata": {},
   "outputs": [
    {
     "name": "stdout",
     "output_type": "stream",
     "text": [
      "313/313 [==============================] - 0s 1ms/step\n",
      "[[1.66640834e-08 2.83773671e-10 1.33221156e-10 ... 6.09695166e-03\n",
      "  1.11554066e-07 9.84970868e-01]\n",
      " [1.24194185e-05 5.09399923e-17 9.99837041e-01 ... 6.15776699e-18\n",
      "  3.07518832e-12 3.47537862e-12]\n",
      " [1.35669538e-07 9.99999762e-01 3.35074308e-12 ... 4.28225612e-28\n",
      "  2.41519500e-12 1.13153086e-18]\n",
      " ...\n",
      " [9.90609478e-05 6.17773957e-11 4.96601160e-06 ... 5.68791195e-11\n",
      "  9.99844432e-01 2.41337397e-12]\n",
      " [6.51772396e-08 9.99992728e-01 8.99861019e-10 ... 1.35450958e-17\n",
      "  8.17042345e-09 3.43793327e-09]\n",
      " [4.71061649e-04 3.18645789e-07 3.51347771e-05 ... 4.98768548e-03\n",
      "  3.08609102e-04 5.87798349e-05]]\n",
      "\n",
      "################################################################\n",
      "\n",
      "[1.66640834e-08 2.83773671e-10 1.33221156e-10 2.58359870e-12\n",
      " 4.60087690e-10 8.93202797e-03 1.52040414e-09 6.09695166e-03\n",
      " 1.11554066e-07 9.84970868e-01]\n"
     ]
    }
   ],
   "source": [
    "# Predictions\n",
    "\n",
    "predictions = model1.predict(testImg)\n",
    "print(predictions)\n",
    "print('\\n################################################################\\n')\n",
    "print(predictions[0])"
   ]
  },
  {
   "cell_type": "code",
   "execution_count": 37,
   "id": "f2b4a439",
   "metadata": {},
   "outputs": [
    {
     "data": {
      "image/png": "[encoded data removed]",
      "text/plain": [
       "<Figure size 432x288 with 1 Axes>"
      ]
     },
     "metadata": {
      "needs_background": "light"
     },
     "output_type": "display_data"
    }
   ],
   "source": [
    "# Checking the output\n",
    "i = 9\n",
    "guess = typeClothes[np.argmax(predictions[i])]\n",
    "\n",
    "plt.figure()\n",
    "plt.imshow(testImg[i])\n",
    "plt.title(\"Actual: \" + typeClothes[testLbl[i]])\n",
    "plt.xlabel(\"Guess: \" + guess)\n",
    "plt.show()"
   ]
  },
  {
   "cell_type": "code",
   "execution_count": null,
   "id": "442a55db",
   "metadata": {},
   "outputs": [],
   "source": []
  }
 ],
 "metadata": {
  "kernelspec": {
   "display_name": "Python 3 (ipykernel)",
   "language": "python",
   "name": "python3"
  },
  "language_info": {
   "codemirror_mode": {
    "name": "ipython",
    "version": 3
   },
   "file_extension": ".py",
   "mimetype": "text/x-python",
   "name": "python",
   "nbconvert_exporter": "python",
   "pygments_lexer": "ipython3",
   "version": "3.9.7"
  }
 },
 "nbformat": 4,
 "nbformat_minor": 5
}
